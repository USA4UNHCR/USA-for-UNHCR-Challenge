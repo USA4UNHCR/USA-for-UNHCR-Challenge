{
 "cells": [
  {
   "cell_type": "code",
   "execution_count": null,
   "metadata": {},
   "outputs": [],
   "source": [
    "from pymongo import MongoClient\n",
    "import pandas as pd\n",
    "import numpy as np"
   ]
  },
  {
   "cell_type": "code",
   "execution_count": null,
   "metadata": {},
   "outputs": [],
   "source": [
    "# Insert your own credentials here!\n",
    "# each one should be a string, between quotes\n",
    "username = xxxxxxx\n",
    "pw = 'xxxxxxx"
   ]
  },
  {
   "cell_type": "code",
   "execution_count": null,
   "metadata": {},
   "outputs": [],
   "source": [
    "def connect_mongoDB(username,password):\n",
    "    '''Connect to MondoDB'''\n",
    "    connection_string = 'mongodb+srv://{}:{}@bananamania-aojj2.mongodb.net/test?retryWrites=true'.format(username,password)\n",
    "    client = MongoClient(connection_string)\n",
    "    return client"
   ]
  },
  {
   "cell_type": "code",
   "execution_count": null,
   "metadata": {},
   "outputs": [],
   "source": [
    "client = connect_mongoDB(username,pw)\n",
    "db = client.tweets\n",
    "\n",
    "numdocs = db['tweets'].find({\"place\": {'$type': 3}}).count()"
   ]
  },
  {
   "cell_type": "code",
   "execution_count": null,
   "metadata": {},
   "outputs": [],
   "source": [
    "# number of tweets with the location field!\n",
    "print(numdocs)"
   ]
  },
  {
   "cell_type": "code",
   "execution_count": null,
   "metadata": {},
   "outputs": [],
   "source": [
    "docs = list(db['tweets'].find({\"place\":{\"$type\": 3}}, {'created_at':1,'full_text':1,'favorite_count':1,'retweet_count':1,'entities.media.type':1,'user.description':1,\n",
    "                                                           'user.created_at':1,'user.followers_count':1,'user.friends_count':1,'user.lang':1,'user.listed_count':1,'user.location':1,\n",
    "                                                          'user.name':1,'user.screen_name':1, 'place':1,'u4u_dataset':1}))"
   ]
  },
  {
   "cell_type": "code",
   "execution_count": null,
   "metadata": {},
   "outputs": [],
   "source": [
    "def flattenDict(d, result=None):\n",
    "    '''\n",
    "    Creates pandas dataframe from nested dictionary\n",
    "    '''\n",
    "    if result is None:\n",
    "        result = {}\n",
    "    for key in d:\n",
    "        value = d[key]\n",
    "        if isinstance(value, dict):\n",
    "            value1 = {}\n",
    "            for keyIn in value:\n",
    "                value1[\".\".join([key,keyIn])]=value[keyIn]\n",
    "            flattenDict(value1, result)\n",
    "        elif isinstance(value, (list, tuple)):   \n",
    "            for indexB, element in enumerate(value):\n",
    "                if isinstance(element, dict):\n",
    "                    value1 = {}\n",
    "                    for keyIn in element:\n",
    "                        newkey = \".\".join([key,keyIn])        \n",
    "                        value1[\".\".join([key,keyIn])]=value[indexB][keyIn]\n",
    "                    for keyA in value1:\n",
    "                        flattenDict(value1, result)   \n",
    "        else:\n",
    "            result[key]=value\n",
    "    return result"
   ]
  },
  {
   "cell_type": "code",
   "execution_count": null,
   "metadata": {},
   "outputs": [],
   "source": [
    "tweetdf = pd.DataFrame([flattenDict(tweet) for tweet in docs])"
   ]
  },
  {
   "cell_type": "code",
   "execution_count": null,
   "metadata": {},
   "outputs": [],
   "source": [
    "coordinates_df = pd.DataFrame()\n",
    "for num in range(len(docs)):\n",
    "    coordinates_df = coordinates_df.append(pd.DataFrame({'coordinates': docs[num]['place']['bounding_box']['coordinates'],'_id':[docs[num]['_id']]}, index =[num]))\n",
    "    \n",
    "tweetdf = tweetdf.merge(coordinates_df,on='_id',how='left')   "
   ]
  },
  {
   "cell_type": "code",
   "execution_count": null,
   "metadata": {},
   "outputs": [],
   "source": [
    "# Enconding 'utf-8-sig' keeps non-Latin characters and other Unicode/Emoji symbols\n",
    "tweetdf.to_csv('loc_tweets.csv',index=False,encoding='utf-8-sig')"
   ]
  }
 ],
 "metadata": {
  "kernelspec": {
   "display_name": "Python 3",
   "language": "python",
   "name": "python3"
  },
  "language_info": {
   "codemirror_mode": {
    "name": "ipython",
    "version": 3
   },
   "file_extension": ".py",
   "mimetype": "text/x-python",
   "name": "python",
   "nbconvert_exporter": "python",
   "pygments_lexer": "ipython3",
   "version": "3.7.0"
  }
 },
 "nbformat": 4,
 "nbformat_minor": 2
}
